{
  "nbformat": 4,
  "nbformat_minor": 0,
  "metadata": {
    "colab": {
      "name": "Detecção de Fraude em Cartões de Crédito.ipynb",
      "provenance": [],
      "collapsed_sections": [],
      "include_colab_link": true
    },
    "kernelspec": {
      "name": "python3",
      "display_name": "Python 3"
    }
  },
  "cells": [
    {
      "cell_type": "markdown",
      "metadata": {
        "id": "view-in-github",
        "colab_type": "text"
      },
      "source": [
        "<a href=\"https://colab.research.google.com/github/fabiocceruti/Identificacao_Fraude_Cartao_Credito_ML/blob/main/Detec%C3%A7%C3%A3o_de_Fraude_em_Cart%C3%B5es_de_Cr%C3%A9dito.ipynb\" target=\"_parent\"><img src=\"https://colab.research.google.com/assets/colab-badge.svg\" alt=\"Open In Colab\"/></a>"
      ]
    },
    {
      "cell_type": "markdown",
      "metadata": {
        "id": "sC2BFMOKN1M7"
      },
      "source": [
        "---\n",
        "<img alt=\"Colaboratory logo\" width=\"15%\" src=\"https://raw.githubusercontent.com/carlosfab/escola-data-science/master/img/novo_logo_bg_claro.png\">\n",
        "\n",
        "#### **Data Science na Prática 2.0**\n",
        "*by [sigmoidal.ai](https://sigmoidal.ai)*  \n",
        "\n",
        "---"
      ]
    },
    {
      "cell_type": "markdown",
      "metadata": {
        "id": "IR56trFcPcC1"
      },
      "source": [
        "# Detecção de Fraudes em Cartões de Crédito\n",
        "\n",
        "Neste projeto, iremos abordar o problema das fraudes em cartões de crédito, uma das principais preocupações das instituições financeiras como bancos e *fintechs*. Apenas no Brasil, cerca de 12,1 milhões de pessoas já foram vítimas de algum tipo de fraude financeira no último ano. Traduzindo em valores, os golpes financeiros ultrapassaram a cifra de R$ 1,8 bilhão de prejuízo por ano para os últimos 12 meses.\n",
        "\n",
        "<p align=center>\n",
        "<img src=\"http://sigmoidal.ai/wp-content/uploads/2019/12/900.jpg\" width=\"60%\"></p>\n",
        "\n",
        "Dentra essas fraudes, aquelas envolvendo cartões de crédito são de grande relevância uma vez que a sua não-detecção acaretará em prejuízos consideráveis, tanto para o consumidor quanto para a instituição financeira.\n",
        "\n",
        "Um outro fator a ser considerado é a quantidade de falsos positivos, ou seja, aquelas vezes em que você tentou fazer uma compra e teve seu cartão bloqueado preventivamente - o que provavelmente gerou estresse e constrangimento.\n",
        "\n",
        "Por todos esses motivos, o investimento na área de detecção de fraudes por meio de Inteligência Artificial vem crescendo a cada ano, representando uma grande oportunidade em *Data Science*. \n",
        "\n",
        "Dispondo de grandes volumes de dados como base histórica, um algoritmo de machine learning apenas um pouco melhor que os anteriores já representa uma economia de milhões de Reais. E esse é o desafio, aprimorar cada vez mais o uso de algoritmos visando inibir ou evitar transações fraudulentas."
      ]
    },
    {
      "cell_type": "markdown",
      "metadata": {
        "id": "0HVmpIxQWT4Y"
      },
      "source": [
        "## Importando os Dados\n",
        "\n",
        "Os dados que usaremos neste projeto foram disponibilizados por algumas empresas européias de cartão de crédito. O *dataset* representa as operações financeiras que aconteceram no período de dois dias, onde foram classificadas 492 fraudes em meio a quase 290 mil transações.\n",
        "\n",
        "Como você pode notar, este é um conjunto de dados extremamente desbalanceado, onde as fraudes representam apenas 0,17% do total.\n",
        "\n",
        "Outro detalhe interessante é que as *features* são todas numéricas, e foram descaracterizadas (por problemas ligados à privacidade e segurança). Assim, os nomes das colunas são representados por $[V1, V2, V3 \\dots, V28]$ \n",
        "\n",
        "<p align=center>\n",
        "<img src=\"http://sigmoidal.ai/wp-content/uploads/2019/12/54.jpg\" width=\"50%\"></p>\n",
        "\n",
        "[Na página original dos dados](https://www.kaggle.com/mlg-ulb/creditcardfraud), também é informado que as variáveis passaram por uma transformação conhecida como Análise de Componentes Principais (*Principal Component Analysis* - PCA).\n",
        "\n",
        "A PCA permite a redução da dimensionalidade enquanto mantém o maior número possível de informações. Para conseguir isso, o algoritmo encontra um conjunto novo de recursos - os chamados **componentes**.\n",
        "\n",
        "Esses componentes são em número menor ou igual às variáveis originais. No caso deste projeto, os componentes achados pela transformação da PCA são as próprias colunas $[V1, V2, V3 \\dots, V28]$.\n",
        "\n",
        "Além destas colunas, o *dataset* possui as seguintes variáveis:\n",
        "* **Time**: É o número de segundso entre a transação e primeira operação no banco;\n",
        "* **Amount**: Montante da transação;\n",
        "* **Class**: 1 para transação fraudulenta e 0 para lícita."
      ]
    },
    {
      "cell_type": "code",
      "metadata": {
        "id": "oQ4bNy7udtEE"
      },
      "source": [
        "# importar os pacotes necessários\n",
        "import pandas as pd\n",
        "import matplotlib.pyplot as plt\n",
        "import seaborn as sns\n",
        "\n",
        "#Pacotes do Sklearn para trabalhar com modelos de ML\n",
        "from sklearn.model_selection import train_test_split\n",
        "from sklearn.preprocessing import StandardScaler\n",
        "from sklearn.metrics import classification_report\n",
        "from sklearn.metrics import confusion_matrix\n"
      ],
      "execution_count": 1,
      "outputs": []
    },
    {
      "cell_type": "code",
      "metadata": {
        "id": "uN6I1xxrRUVs"
      },
      "source": [
        "#Biblioteca para balancear a amostra\n",
        "from imblearn.under_sampling import RandomUnderSampler\n",
        "\n",
        "#Ignorando warnings\n",
        "from warnings import simplefilter\n",
        "simplefilter(action='ignore', category=FutureWarning)"
      ],
      "execution_count": 3,
      "outputs": []
    },
    {
      "cell_type": "markdown",
      "metadata": {
        "id": "g5XDTWW5LRVe"
      },
      "source": [
        "Para facilitar a aquisição dos dados, criei um *link* com acesso direto ao `csv`. Com isso, basta importar o conjunto de dados usando o método `pd.read_csv()`."
      ]
    },
    {
      "cell_type": "code",
      "metadata": {
        "id": "4NxUOfDOj2j8"
      },
      "source": [
        "#Link do arquivo\n",
        "file_path = \"https://www.dropbox.com/s/b44o3t3ehmnx2b7/creditcard.csv?dl=1\"\n",
        "\n",
        "# importar os dados para um dataframe\n",
        "df = pd.read_csv(file_path)"
      ],
      "execution_count": 4,
      "outputs": []
    },
    {
      "cell_type": "markdown",
      "metadata": {
        "id": "7nF_Dhd81Cvq"
      },
      "source": [
        "Com os dados importados para dentro de uma estrutura *Dataframe* - e não havendo a necessidade de mais nenhum ajuste ou configuração nesta etapa, pode-se iniciar uma análise exploratória dos dados a fim de preparar um modelo de *Machine Learning*."
      ]
    },
    {
      "cell_type": "markdown",
      "metadata": {
        "id": "8UtXyZ6stlSM"
      },
      "source": [
        "## Análise exploratória\n",
        "\n",
        "Antes de iniciarmos a aplicação dos modelos preditivos de machine learning, vamos realizar uma análise exploratória dos dados para verificar a necessidade de alguma intervenção.\n",
        "\n",
        "Primeiramente, verificaremos quantos dados e variáveis possuem no *dataset*."
      ]
    },
    {
      "cell_type": "code",
      "metadata": {
        "colab": {
          "base_uri": "https://localhost:8080/"
        },
        "id": "Q7pLcanS1Otr",
        "outputId": "a1288dab-ec82-4e37-b466-7e63a0388ac4"
      },
      "source": [
        "#Imprimindo a quantidade de dados e variáveis\n",
        "print(\"Quantidade de dados: \", df.shape[0])\n",
        "print(\"Quantidade de variáveis: \", df.shape[1])"
      ],
      "execution_count": 5,
      "outputs": [
        {
          "output_type": "stream",
          "text": [
            "Quantidade de dados:  284807\n",
            "Quantidade de variáveis:  31\n"
          ],
          "name": "stdout"
        }
      ]
    },
    {
      "cell_type": "markdown",
      "metadata": {
        "id": "oEA0tvRsZAXl"
      },
      "source": [
        "Vamos avaliar as 5 primeiras e últimas linhas com a ideia de entender como os dados estão organizados."
      ]
    },
    {
      "cell_type": "code",
      "metadata": {
        "colab": {
          "base_uri": "https://localhost:8080/",
          "height": 202
        },
        "id": "QdBX7CP1gpb1",
        "outputId": "0a6fca0d-66f5-4da3-83e6-c137372273a8"
      },
      "source": [
        "#Imprimindo as 5 primeiras linhas\n",
        "df.head()"
      ],
      "execution_count": 6,
      "outputs": [
        {
          "output_type": "execute_result",
          "data": {
            "text/html": [
              "<div>\n",
              "<style scoped>\n",
              "    .dataframe tbody tr th:only-of-type {\n",
              "        vertical-align: middle;\n",
              "    }\n",
              "\n",
              "    .dataframe tbody tr th {\n",
              "        vertical-align: top;\n",
              "    }\n",
              "\n",
              "    .dataframe thead th {\n",
              "        text-align: right;\n",
              "    }\n",
              "</style>\n",
              "<table border=\"1\" class=\"dataframe\">\n",
              "  <thead>\n",
              "    <tr style=\"text-align: right;\">\n",
              "      <th></th>\n",
              "      <th>Time</th>\n",
              "      <th>V1</th>\n",
              "      <th>V2</th>\n",
              "      <th>V3</th>\n",
              "      <th>V4</th>\n",
              "      <th>V5</th>\n",
              "      <th>V6</th>\n",
              "      <th>V7</th>\n",
              "      <th>V8</th>\n",
              "      <th>V9</th>\n",
              "      <th>V10</th>\n",
              "      <th>V11</th>\n",
              "      <th>V12</th>\n",
              "      <th>V13</th>\n",
              "      <th>V14</th>\n",
              "      <th>V15</th>\n",
              "      <th>V16</th>\n",
              "      <th>V17</th>\n",
              "      <th>V18</th>\n",
              "      <th>V19</th>\n",
              "      <th>V20</th>\n",
              "      <th>V21</th>\n",
              "      <th>V22</th>\n",
              "      <th>V23</th>\n",
              "      <th>V24</th>\n",
              "      <th>V25</th>\n",
              "      <th>V26</th>\n",
              "      <th>V27</th>\n",
              "      <th>V28</th>\n",
              "      <th>Amount</th>\n",
              "      <th>Class</th>\n",
              "    </tr>\n",
              "  </thead>\n",
              "  <tbody>\n",
              "    <tr>\n",
              "      <th>0</th>\n",
              "      <td>0.0</td>\n",
              "      <td>-1.359807</td>\n",
              "      <td>-0.072781</td>\n",
              "      <td>2.536347</td>\n",
              "      <td>1.378155</td>\n",
              "      <td>-0.338321</td>\n",
              "      <td>0.462388</td>\n",
              "      <td>0.239599</td>\n",
              "      <td>0.098698</td>\n",
              "      <td>0.363787</td>\n",
              "      <td>0.090794</td>\n",
              "      <td>-0.551600</td>\n",
              "      <td>-0.617801</td>\n",
              "      <td>-0.991390</td>\n",
              "      <td>-0.311169</td>\n",
              "      <td>1.468177</td>\n",
              "      <td>-0.470401</td>\n",
              "      <td>0.207971</td>\n",
              "      <td>0.025791</td>\n",
              "      <td>0.403993</td>\n",
              "      <td>0.251412</td>\n",
              "      <td>-0.018307</td>\n",
              "      <td>0.277838</td>\n",
              "      <td>-0.110474</td>\n",
              "      <td>0.066928</td>\n",
              "      <td>0.128539</td>\n",
              "      <td>-0.189115</td>\n",
              "      <td>0.133558</td>\n",
              "      <td>-0.021053</td>\n",
              "      <td>149.62</td>\n",
              "      <td>0</td>\n",
              "    </tr>\n",
              "    <tr>\n",
              "      <th>1</th>\n",
              "      <td>0.0</td>\n",
              "      <td>1.191857</td>\n",
              "      <td>0.266151</td>\n",
              "      <td>0.166480</td>\n",
              "      <td>0.448154</td>\n",
              "      <td>0.060018</td>\n",
              "      <td>-0.082361</td>\n",
              "      <td>-0.078803</td>\n",
              "      <td>0.085102</td>\n",
              "      <td>-0.255425</td>\n",
              "      <td>-0.166974</td>\n",
              "      <td>1.612727</td>\n",
              "      <td>1.065235</td>\n",
              "      <td>0.489095</td>\n",
              "      <td>-0.143772</td>\n",
              "      <td>0.635558</td>\n",
              "      <td>0.463917</td>\n",
              "      <td>-0.114805</td>\n",
              "      <td>-0.183361</td>\n",
              "      <td>-0.145783</td>\n",
              "      <td>-0.069083</td>\n",
              "      <td>-0.225775</td>\n",
              "      <td>-0.638672</td>\n",
              "      <td>0.101288</td>\n",
              "      <td>-0.339846</td>\n",
              "      <td>0.167170</td>\n",
              "      <td>0.125895</td>\n",
              "      <td>-0.008983</td>\n",
              "      <td>0.014724</td>\n",
              "      <td>2.69</td>\n",
              "      <td>0</td>\n",
              "    </tr>\n",
              "    <tr>\n",
              "      <th>2</th>\n",
              "      <td>1.0</td>\n",
              "      <td>-1.358354</td>\n",
              "      <td>-1.340163</td>\n",
              "      <td>1.773209</td>\n",
              "      <td>0.379780</td>\n",
              "      <td>-0.503198</td>\n",
              "      <td>1.800499</td>\n",
              "      <td>0.791461</td>\n",
              "      <td>0.247676</td>\n",
              "      <td>-1.514654</td>\n",
              "      <td>0.207643</td>\n",
              "      <td>0.624501</td>\n",
              "      <td>0.066084</td>\n",
              "      <td>0.717293</td>\n",
              "      <td>-0.165946</td>\n",
              "      <td>2.345865</td>\n",
              "      <td>-2.890083</td>\n",
              "      <td>1.109969</td>\n",
              "      <td>-0.121359</td>\n",
              "      <td>-2.261857</td>\n",
              "      <td>0.524980</td>\n",
              "      <td>0.247998</td>\n",
              "      <td>0.771679</td>\n",
              "      <td>0.909412</td>\n",
              "      <td>-0.689281</td>\n",
              "      <td>-0.327642</td>\n",
              "      <td>-0.139097</td>\n",
              "      <td>-0.055353</td>\n",
              "      <td>-0.059752</td>\n",
              "      <td>378.66</td>\n",
              "      <td>0</td>\n",
              "    </tr>\n",
              "    <tr>\n",
              "      <th>3</th>\n",
              "      <td>1.0</td>\n",
              "      <td>-0.966272</td>\n",
              "      <td>-0.185226</td>\n",
              "      <td>1.792993</td>\n",
              "      <td>-0.863291</td>\n",
              "      <td>-0.010309</td>\n",
              "      <td>1.247203</td>\n",
              "      <td>0.237609</td>\n",
              "      <td>0.377436</td>\n",
              "      <td>-1.387024</td>\n",
              "      <td>-0.054952</td>\n",
              "      <td>-0.226487</td>\n",
              "      <td>0.178228</td>\n",
              "      <td>0.507757</td>\n",
              "      <td>-0.287924</td>\n",
              "      <td>-0.631418</td>\n",
              "      <td>-1.059647</td>\n",
              "      <td>-0.684093</td>\n",
              "      <td>1.965775</td>\n",
              "      <td>-1.232622</td>\n",
              "      <td>-0.208038</td>\n",
              "      <td>-0.108300</td>\n",
              "      <td>0.005274</td>\n",
              "      <td>-0.190321</td>\n",
              "      <td>-1.175575</td>\n",
              "      <td>0.647376</td>\n",
              "      <td>-0.221929</td>\n",
              "      <td>0.062723</td>\n",
              "      <td>0.061458</td>\n",
              "      <td>123.50</td>\n",
              "      <td>0</td>\n",
              "    </tr>\n",
              "    <tr>\n",
              "      <th>4</th>\n",
              "      <td>2.0</td>\n",
              "      <td>-1.158233</td>\n",
              "      <td>0.877737</td>\n",
              "      <td>1.548718</td>\n",
              "      <td>0.403034</td>\n",
              "      <td>-0.407193</td>\n",
              "      <td>0.095921</td>\n",
              "      <td>0.592941</td>\n",
              "      <td>-0.270533</td>\n",
              "      <td>0.817739</td>\n",
              "      <td>0.753074</td>\n",
              "      <td>-0.822843</td>\n",
              "      <td>0.538196</td>\n",
              "      <td>1.345852</td>\n",
              "      <td>-1.119670</td>\n",
              "      <td>0.175121</td>\n",
              "      <td>-0.451449</td>\n",
              "      <td>-0.237033</td>\n",
              "      <td>-0.038195</td>\n",
              "      <td>0.803487</td>\n",
              "      <td>0.408542</td>\n",
              "      <td>-0.009431</td>\n",
              "      <td>0.798278</td>\n",
              "      <td>-0.137458</td>\n",
              "      <td>0.141267</td>\n",
              "      <td>-0.206010</td>\n",
              "      <td>0.502292</td>\n",
              "      <td>0.219422</td>\n",
              "      <td>0.215153</td>\n",
              "      <td>69.99</td>\n",
              "      <td>0</td>\n",
              "    </tr>\n",
              "  </tbody>\n",
              "</table>\n",
              "</div>"
            ],
            "text/plain": [
              "   Time        V1        V2        V3  ...       V27       V28  Amount  Class\n",
              "0   0.0 -1.359807 -0.072781  2.536347  ...  0.133558 -0.021053  149.62      0\n",
              "1   0.0  1.191857  0.266151  0.166480  ... -0.008983  0.014724    2.69      0\n",
              "2   1.0 -1.358354 -1.340163  1.773209  ... -0.055353 -0.059752  378.66      0\n",
              "3   1.0 -0.966272 -0.185226  1.792993  ...  0.062723  0.061458  123.50      0\n",
              "4   2.0 -1.158233  0.877737  1.548718  ...  0.219422  0.215153   69.99      0\n",
              "\n",
              "[5 rows x 31 columns]"
            ]
          },
          "metadata": {
            "tags": []
          },
          "execution_count": 6
        }
      ]
    },
    {
      "cell_type": "code",
      "metadata": {
        "colab": {
          "base_uri": "https://localhost:8080/",
          "height": 202
        },
        "id": "zUHplJMSgwmJ",
        "outputId": "d73ede47-d50d-44df-ce9f-c16d25b5b9a3"
      },
      "source": [
        "#Imprimindo as 5 últimas linhas\n",
        "df.tail()"
      ],
      "execution_count": 7,
      "outputs": [
        {
          "output_type": "execute_result",
          "data": {
            "text/html": [
              "<div>\n",
              "<style scoped>\n",
              "    .dataframe tbody tr th:only-of-type {\n",
              "        vertical-align: middle;\n",
              "    }\n",
              "\n",
              "    .dataframe tbody tr th {\n",
              "        vertical-align: top;\n",
              "    }\n",
              "\n",
              "    .dataframe thead th {\n",
              "        text-align: right;\n",
              "    }\n",
              "</style>\n",
              "<table border=\"1\" class=\"dataframe\">\n",
              "  <thead>\n",
              "    <tr style=\"text-align: right;\">\n",
              "      <th></th>\n",
              "      <th>Time</th>\n",
              "      <th>V1</th>\n",
              "      <th>V2</th>\n",
              "      <th>V3</th>\n",
              "      <th>V4</th>\n",
              "      <th>V5</th>\n",
              "      <th>V6</th>\n",
              "      <th>V7</th>\n",
              "      <th>V8</th>\n",
              "      <th>V9</th>\n",
              "      <th>V10</th>\n",
              "      <th>V11</th>\n",
              "      <th>V12</th>\n",
              "      <th>V13</th>\n",
              "      <th>V14</th>\n",
              "      <th>V15</th>\n",
              "      <th>V16</th>\n",
              "      <th>V17</th>\n",
              "      <th>V18</th>\n",
              "      <th>V19</th>\n",
              "      <th>V20</th>\n",
              "      <th>V21</th>\n",
              "      <th>V22</th>\n",
              "      <th>V23</th>\n",
              "      <th>V24</th>\n",
              "      <th>V25</th>\n",
              "      <th>V26</th>\n",
              "      <th>V27</th>\n",
              "      <th>V28</th>\n",
              "      <th>Amount</th>\n",
              "      <th>Class</th>\n",
              "    </tr>\n",
              "  </thead>\n",
              "  <tbody>\n",
              "    <tr>\n",
              "      <th>284802</th>\n",
              "      <td>172786.0</td>\n",
              "      <td>-11.881118</td>\n",
              "      <td>10.071785</td>\n",
              "      <td>-9.834783</td>\n",
              "      <td>-2.066656</td>\n",
              "      <td>-5.364473</td>\n",
              "      <td>-2.606837</td>\n",
              "      <td>-4.918215</td>\n",
              "      <td>7.305334</td>\n",
              "      <td>1.914428</td>\n",
              "      <td>4.356170</td>\n",
              "      <td>-1.593105</td>\n",
              "      <td>2.711941</td>\n",
              "      <td>-0.689256</td>\n",
              "      <td>4.626942</td>\n",
              "      <td>-0.924459</td>\n",
              "      <td>1.107641</td>\n",
              "      <td>1.991691</td>\n",
              "      <td>0.510632</td>\n",
              "      <td>-0.682920</td>\n",
              "      <td>1.475829</td>\n",
              "      <td>0.213454</td>\n",
              "      <td>0.111864</td>\n",
              "      <td>1.014480</td>\n",
              "      <td>-0.509348</td>\n",
              "      <td>1.436807</td>\n",
              "      <td>0.250034</td>\n",
              "      <td>0.943651</td>\n",
              "      <td>0.823731</td>\n",
              "      <td>0.77</td>\n",
              "      <td>0</td>\n",
              "    </tr>\n",
              "    <tr>\n",
              "      <th>284803</th>\n",
              "      <td>172787.0</td>\n",
              "      <td>-0.732789</td>\n",
              "      <td>-0.055080</td>\n",
              "      <td>2.035030</td>\n",
              "      <td>-0.738589</td>\n",
              "      <td>0.868229</td>\n",
              "      <td>1.058415</td>\n",
              "      <td>0.024330</td>\n",
              "      <td>0.294869</td>\n",
              "      <td>0.584800</td>\n",
              "      <td>-0.975926</td>\n",
              "      <td>-0.150189</td>\n",
              "      <td>0.915802</td>\n",
              "      <td>1.214756</td>\n",
              "      <td>-0.675143</td>\n",
              "      <td>1.164931</td>\n",
              "      <td>-0.711757</td>\n",
              "      <td>-0.025693</td>\n",
              "      <td>-1.221179</td>\n",
              "      <td>-1.545556</td>\n",
              "      <td>0.059616</td>\n",
              "      <td>0.214205</td>\n",
              "      <td>0.924384</td>\n",
              "      <td>0.012463</td>\n",
              "      <td>-1.016226</td>\n",
              "      <td>-0.606624</td>\n",
              "      <td>-0.395255</td>\n",
              "      <td>0.068472</td>\n",
              "      <td>-0.053527</td>\n",
              "      <td>24.79</td>\n",
              "      <td>0</td>\n",
              "    </tr>\n",
              "    <tr>\n",
              "      <th>284804</th>\n",
              "      <td>172788.0</td>\n",
              "      <td>1.919565</td>\n",
              "      <td>-0.301254</td>\n",
              "      <td>-3.249640</td>\n",
              "      <td>-0.557828</td>\n",
              "      <td>2.630515</td>\n",
              "      <td>3.031260</td>\n",
              "      <td>-0.296827</td>\n",
              "      <td>0.708417</td>\n",
              "      <td>0.432454</td>\n",
              "      <td>-0.484782</td>\n",
              "      <td>0.411614</td>\n",
              "      <td>0.063119</td>\n",
              "      <td>-0.183699</td>\n",
              "      <td>-0.510602</td>\n",
              "      <td>1.329284</td>\n",
              "      <td>0.140716</td>\n",
              "      <td>0.313502</td>\n",
              "      <td>0.395652</td>\n",
              "      <td>-0.577252</td>\n",
              "      <td>0.001396</td>\n",
              "      <td>0.232045</td>\n",
              "      <td>0.578229</td>\n",
              "      <td>-0.037501</td>\n",
              "      <td>0.640134</td>\n",
              "      <td>0.265745</td>\n",
              "      <td>-0.087371</td>\n",
              "      <td>0.004455</td>\n",
              "      <td>-0.026561</td>\n",
              "      <td>67.88</td>\n",
              "      <td>0</td>\n",
              "    </tr>\n",
              "    <tr>\n",
              "      <th>284805</th>\n",
              "      <td>172788.0</td>\n",
              "      <td>-0.240440</td>\n",
              "      <td>0.530483</td>\n",
              "      <td>0.702510</td>\n",
              "      <td>0.689799</td>\n",
              "      <td>-0.377961</td>\n",
              "      <td>0.623708</td>\n",
              "      <td>-0.686180</td>\n",
              "      <td>0.679145</td>\n",
              "      <td>0.392087</td>\n",
              "      <td>-0.399126</td>\n",
              "      <td>-1.933849</td>\n",
              "      <td>-0.962886</td>\n",
              "      <td>-1.042082</td>\n",
              "      <td>0.449624</td>\n",
              "      <td>1.962563</td>\n",
              "      <td>-0.608577</td>\n",
              "      <td>0.509928</td>\n",
              "      <td>1.113981</td>\n",
              "      <td>2.897849</td>\n",
              "      <td>0.127434</td>\n",
              "      <td>0.265245</td>\n",
              "      <td>0.800049</td>\n",
              "      <td>-0.163298</td>\n",
              "      <td>0.123205</td>\n",
              "      <td>-0.569159</td>\n",
              "      <td>0.546668</td>\n",
              "      <td>0.108821</td>\n",
              "      <td>0.104533</td>\n",
              "      <td>10.00</td>\n",
              "      <td>0</td>\n",
              "    </tr>\n",
              "    <tr>\n",
              "      <th>284806</th>\n",
              "      <td>172792.0</td>\n",
              "      <td>-0.533413</td>\n",
              "      <td>-0.189733</td>\n",
              "      <td>0.703337</td>\n",
              "      <td>-0.506271</td>\n",
              "      <td>-0.012546</td>\n",
              "      <td>-0.649617</td>\n",
              "      <td>1.577006</td>\n",
              "      <td>-0.414650</td>\n",
              "      <td>0.486180</td>\n",
              "      <td>-0.915427</td>\n",
              "      <td>-1.040458</td>\n",
              "      <td>-0.031513</td>\n",
              "      <td>-0.188093</td>\n",
              "      <td>-0.084316</td>\n",
              "      <td>0.041333</td>\n",
              "      <td>-0.302620</td>\n",
              "      <td>-0.660377</td>\n",
              "      <td>0.167430</td>\n",
              "      <td>-0.256117</td>\n",
              "      <td>0.382948</td>\n",
              "      <td>0.261057</td>\n",
              "      <td>0.643078</td>\n",
              "      <td>0.376777</td>\n",
              "      <td>0.008797</td>\n",
              "      <td>-0.473649</td>\n",
              "      <td>-0.818267</td>\n",
              "      <td>-0.002415</td>\n",
              "      <td>0.013649</td>\n",
              "      <td>217.00</td>\n",
              "      <td>0</td>\n",
              "    </tr>\n",
              "  </tbody>\n",
              "</table>\n",
              "</div>"
            ],
            "text/plain": [
              "            Time         V1         V2  ...       V28  Amount  Class\n",
              "284802  172786.0 -11.881118  10.071785  ...  0.823731    0.77      0\n",
              "284803  172787.0  -0.732789  -0.055080  ... -0.053527   24.79      0\n",
              "284804  172788.0   1.919565  -0.301254  ... -0.026561   67.88      0\n",
              "284805  172788.0  -0.240440   0.530483  ...  0.104533   10.00      0\n",
              "284806  172792.0  -0.533413  -0.189733  ...  0.013649  217.00      0\n",
              "\n",
              "[5 rows x 31 columns]"
            ]
          },
          "metadata": {
            "tags": []
          },
          "execution_count": 7
        }
      ]
    },
    {
      "cell_type": "markdown",
      "metadata": {
        "id": "0TbFxRjIZKue"
      },
      "source": [
        "Vamos avaliar os tipos das variáveis do *dataset*."
      ]
    },
    {
      "cell_type": "code",
      "metadata": {
        "colab": {
          "base_uri": "https://localhost:8080/"
        },
        "id": "S5yOrdgkhTL-",
        "outputId": "a85afb69-7ffe-4c2e-8a99-7ebe5b017476"
      },
      "source": [
        "df.dtypes"
      ],
      "execution_count": 8,
      "outputs": [
        {
          "output_type": "execute_result",
          "data": {
            "text/plain": [
              "Time      float64\n",
              "V1        float64\n",
              "V2        float64\n",
              "V3        float64\n",
              "V4        float64\n",
              "V5        float64\n",
              "V6        float64\n",
              "V7        float64\n",
              "V8        float64\n",
              "V9        float64\n",
              "V10       float64\n",
              "V11       float64\n",
              "V12       float64\n",
              "V13       float64\n",
              "V14       float64\n",
              "V15       float64\n",
              "V16       float64\n",
              "V17       float64\n",
              "V18       float64\n",
              "V19       float64\n",
              "V20       float64\n",
              "V21       float64\n",
              "V22       float64\n",
              "V23       float64\n",
              "V24       float64\n",
              "V25       float64\n",
              "V26       float64\n",
              "V27       float64\n",
              "V28       float64\n",
              "Amount    float64\n",
              "Class       int64\n",
              "dtype: object"
            ]
          },
          "metadata": {
            "tags": []
          },
          "execution_count": 8
        }
      ]
    },
    {
      "cell_type": "markdown",
      "metadata": {
        "id": "5UDTjjiFZpTs"
      },
      "source": [
        "Podemos notar que as variáveis estão classificadas em dois tipos:\n",
        "* **float**: número inteiro;\n",
        "* **int**: número inteiro.\n",
        "\n",
        "Vamos avaliar se existe valores ausentes na amostra."
      ]
    },
    {
      "cell_type": "code",
      "metadata": {
        "colab": {
          "base_uri": "https://localhost:8080/"
        },
        "id": "U0oJuo7VhH1o",
        "outputId": "6f696c5a-ec01-4749-8a50-fc14a52384db"
      },
      "source": [
        "#Verificando se existe valores ausentes\n",
        "df.isnull().sum()"
      ],
      "execution_count": 9,
      "outputs": [
        {
          "output_type": "execute_result",
          "data": {
            "text/plain": [
              "Time      0\n",
              "V1        0\n",
              "V2        0\n",
              "V3        0\n",
              "V4        0\n",
              "V5        0\n",
              "V6        0\n",
              "V7        0\n",
              "V8        0\n",
              "V9        0\n",
              "V10       0\n",
              "V11       0\n",
              "V12       0\n",
              "V13       0\n",
              "V14       0\n",
              "V15       0\n",
              "V16       0\n",
              "V17       0\n",
              "V18       0\n",
              "V19       0\n",
              "V20       0\n",
              "V21       0\n",
              "V22       0\n",
              "V23       0\n",
              "V24       0\n",
              "V25       0\n",
              "V26       0\n",
              "V27       0\n",
              "V28       0\n",
              "Amount    0\n",
              "Class     0\n",
              "dtype: int64"
            ]
          },
          "metadata": {
            "tags": []
          },
          "execution_count": 9
        }
      ]
    },
    {
      "cell_type": "markdown",
      "metadata": {
        "id": "KXcKt1bSZ8we"
      },
      "source": [
        "Como podemos avaliar, não existe valores ausentes, o que é um ponto positivo para o estudo, já que não será necessário qualquer intevenção nos dados em busca de contornar este problema.\n",
        "\n",
        "Outro problema que podemos ter é o desbalanceamento dos dados, diante disto, vamos avaliar como está o balanceamento no *dataset*."
      ]
    },
    {
      "cell_type": "code",
      "metadata": {
        "colab": {
          "base_uri": "https://localhost:8080/",
          "height": 301
        },
        "id": "9ztmNvTJhRsq",
        "outputId": "0371bbf2-21e8-4aca-c751-5022946f85dc"
      },
      "source": [
        "#Definindo os parâmetros de style para o matplotlib\n",
        "rc_params = {'axes.edgecolor':'#787878', \n",
        "             'axes.titlecolor':'#787878', \n",
        "             'axes.labelcolor': '#787878', \n",
        "             'axes.spines.top':False, \n",
        "             'axes.spines.right': False, \n",
        "             'xtick.color': '#787878', \n",
        "             'ytick.color': '#787878',\n",
        "             'axes.titleweight': 'bold',\n",
        "             'axes.titlesize': 12,\n",
        "             'axes.titlepad': 12\n",
        "             }\n",
        "\n",
        "#setando os parâmetros no matplotlib\n",
        "with plt.rc_context(rc_params):\n",
        "\n",
        "  #Instanciando a Figure e Axes\n",
        "  fig, ax = plt.subplots()\n",
        "\n",
        "  #Criando o gráfico de countplot\n",
        "  sns.countplot(x = 'Class', \n",
        "                data = df,\n",
        "                ax = ax)\n",
        "  \n",
        "  #Exibindo o título\n",
        "  ax.set_title(\"Quantidade de transações fraudulentas e autênticas\")\n",
        "\n",
        "  #Armazena o % da amostra\n",
        "  percentual_fraud = round((df['Class'].value_counts()[1] / df.shape[0])*100,2)\n",
        "\n",
        "  #Criar uma informação no gráfico\n",
        "  ax.annotate(str(percentual_fraud) + \"% da amostra\", \n",
        "              xy = (1, df['Class'].value_counts()[1]), \n",
        "              xytext = (25,25), \n",
        "              color = \"#787878\",\n",
        "              weight = 'bold', \n",
        "              textcoords='offset points',\n",
        "              arrowprops=dict(color = '#787878',  shrink= 0.05, width = 0.01, headwidth = 7))\n",
        "\n",
        "  #Exibindo o gráfico\n",
        "  plt.show()\n"
      ],
      "execution_count": 10,
      "outputs": [
        {
          "output_type": "display_data",
          "data": {
            "image/png": "[encoded data removed]",
            "text/plain": [
              "<Figure size 432x288 with 1 Axes>"
            ]
          },
          "metadata": {
            "tags": [],
            "needs_background": "light"
          }
        }
      ]
    },
    {
      "cell_type": "markdown",
      "metadata": {
        "id": "djFsaKdZaeQG"
      },
      "source": [
        "Como mostrado no gráfico, os dados relacionados com a variável alvo **Class** está desbalanceada, visto que apenas 0,17% dos dados totais estão relacionados com transações fraudulentas.\n",
        "\n",
        "Isto gera um problema durante a predição do modelo de machine learning, porque é mais cômodo para o algoritmo classificar a maioria dos casos como autênticos. Diante disto, será necessário rebalancear amostra. Este passo será mostrado e explicado durante a fase de **preparando os dados**.\n",
        "\n",
        "As variáveis V1 a V28 sofreram uma redução de dimensionalidade a partir da aplicação do algoritmo PCA, portanto, é difícil fazer uma análise a respeito delas, devido a perca de lastro com a realidade.\n",
        "\n",
        "Com isso, focaremos as análises exploratórias em relação a variável **Time** e **Amount**.\n",
        "\n",
        "O próximo passo é plotar um histograma da variável **Time** para transações fraudulentas e autênticas.\n"
      ]
    },
    {
      "cell_type": "code",
      "metadata": {
        "colab": {
          "base_uri": "https://localhost:8080/",
          "height": 585
        },
        "id": "-nNlRwIgu6Jj",
        "outputId": "9cfa7347-16de-4d24-c039-6b91d8675ef6"
      },
      "source": [
        "#setando os parâmetros no matplotlib\n",
        "with plt.rc_context(rc_params):\n",
        "\n",
        "  #Instanciando a Figure e Axes\n",
        "  fig, ax = plt.subplots(nrows = 2, ncols = 1, figsize = (16, 8))\n",
        "\n",
        "  #Construindo o histograma dos horários de transações autênticas\n",
        "  sns.histplot( x = 'Time', \n",
        "               data = df.loc[ df['Class'] == 0 ], \n",
        "               ax = ax[0],\n",
        "               kde = False)\n",
        "  \n",
        "  #Setando o título\n",
        "  ax[0].set_title(\"Distribuição das transações no tempo contínuo - sem fraude\")\n",
        "  \n",
        "  #Construindo o histograma dos horários de transações Fraude\n",
        "  sns.histplot( x = 'Time', \n",
        "               data = df.loc[ df['Class'] == 1 ], \n",
        "               ax = ax[1],\n",
        "               kde = False)\n",
        "  \n",
        "  #Setando o título\n",
        "  ax[1].set_title(\"Distribuição das transações no tempo contínuo - com fraude\")\n",
        "\n",
        "  #Exibindo o gráfico\n",
        "  fig.tight_layout()"
      ],
      "execution_count": 11,
      "outputs": [
        {
          "output_type": "display_data",
          "data": {
            "image/png": "[encoded data removed]",
            "text/plain": [
              "<Figure size 1152x576 with 2 Axes>"
            ]
          },
          "metadata": {
            "tags": [],
            "needs_background": "light"
          }
        }
      ]
    },
    {
      "cell_type": "markdown",
      "metadata": {
        "id": "JDJHvmMseViF"
      },
      "source": [
        "O *dataset* está organizado por transações realizadas em um período de dois dias e a variável **Time** está em unidade de segundos contínuo. Portanto, apesar do gráfico plotado mostrar alguns insights a respeito dos períodos que ocorrem mais transações, o ideal seria trazer para uma visão diária e unificar os dois dias em apenas um.\n",
        "\n",
        "Com isso, faremos uma conversão da variável **Time** para horas diárias. O próximo passo é criar uma função e aplicar no dataframe para conversão."
      ]
    },
    {
      "cell_type": "code",
      "metadata": {
        "id": "689kxLpQZHb5"
      },
      "source": [
        "#Definindo uma função que convert o segundo em horas diárias\n",
        "def ConvertInHourDay(time):\n",
        "\n",
        "  #Define o segundos em uma hora\n",
        "  SecondsOneHour = 60*60\n",
        "\n",
        "  #Converte o segundos em horas diárias\n",
        "  if (time <= (SecondsOneHour * 24)):\n",
        "    TimeOneDay = time / SecondsOneHour\n",
        "  else:\n",
        "    TimeOneDay = (time / SecondsOneHour) - 24\n",
        "\n",
        "  #Retorna o valor\n",
        "  return round(TimeOneDay,4)"
      ],
      "execution_count": 12,
      "outputs": []
    },
    {
      "cell_type": "code",
      "metadata": {
        "id": "3iXjoNjvdv1s"
      },
      "source": [
        "#Copiando o dataframe\n",
        "df_time_day = df.copy()\n",
        "\n",
        "#Aplicando a função de conversão no novo dataframe\n",
        "df_time_day['Time'] = df_time_day['Time'].apply(ConvertInHourDay)"
      ],
      "execution_count": 13,
      "outputs": []
    },
    {
      "cell_type": "markdown",
      "metadata": {
        "id": "EkZYMN06ofmG"
      },
      "source": [
        "Após as conversões iremos avaliar as 5 primeiras e últimas linhas para verificar se ocorreu tudo conforme planejado."
      ]
    },
    {
      "cell_type": "code",
      "metadata": {
        "colab": {
          "base_uri": "https://localhost:8080/",
          "height": 202
        },
        "id": "TnVbGbrQdxpX",
        "outputId": "b6c5f95f-c57b-4f45-ac21-a09550f26c83"
      },
      "source": [
        "#Imprimindo as 5 primeiras linhas\n",
        "df_time_day.head()"
      ],
      "execution_count": 14,
      "outputs": [
        {
          "output_type": "execute_result",
          "data": {
            "text/html": [
              "<div>\n",
              "<style scoped>\n",
              "    .dataframe tbody tr th:only-of-type {\n",
              "        vertical-align: middle;\n",
              "    }\n",
              "\n",
              "    .dataframe tbody tr th {\n",
              "        vertical-align: top;\n",
              "    }\n",
              "\n",
              "    .dataframe thead th {\n",
              "        text-align: right;\n",
              "    }\n",
              "</style>\n",
              "<table border=\"1\" class=\"dataframe\">\n",
              "  <thead>\n",
              "    <tr style=\"text-align: right;\">\n",
              "      <th></th>\n",
              "      <th>Time</th>\n",
              "      <th>V1</th>\n",
              "      <th>V2</th>\n",
              "      <th>V3</th>\n",
              "      <th>V4</th>\n",
              "      <th>V5</th>\n",
              "      <th>V6</th>\n",
              "      <th>V7</th>\n",
              "      <th>V8</th>\n",
              "      <th>V9</th>\n",
              "      <th>V10</th>\n",
              "      <th>V11</th>\n",
              "      <th>V12</th>\n",
              "      <th>V13</th>\n",
              "      <th>V14</th>\n",
              "      <th>V15</th>\n",
              "      <th>V16</th>\n",
              "      <th>V17</th>\n",
              "      <th>V18</th>\n",
              "      <th>V19</th>\n",
              "      <th>V20</th>\n",
              "      <th>V21</th>\n",
              "      <th>V22</th>\n",
              "      <th>V23</th>\n",
              "      <th>V24</th>\n",
              "      <th>V25</th>\n",
              "      <th>V26</th>\n",
              "      <th>V27</th>\n",
              "      <th>V28</th>\n",
              "      <th>Amount</th>\n",
              "      <th>Class</th>\n",
              "    </tr>\n",
              "  </thead>\n",
              "  <tbody>\n",
              "    <tr>\n",
              "      <th>0</th>\n",
              "      <td>0.0000</td>\n",
              "      <td>-1.359807</td>\n",
              "      <td>-0.072781</td>\n",
              "      <td>2.536347</td>\n",
              "      <td>1.378155</td>\n",
              "      <td>-0.338321</td>\n",
              "      <td>0.462388</td>\n",
              "      <td>0.239599</td>\n",
              "      <td>0.098698</td>\n",
              "      <td>0.363787</td>\n",
              "      <td>0.090794</td>\n",
              "      <td>-0.551600</td>\n",
              "      <td>-0.617801</td>\n",
              "      <td>-0.991390</td>\n",
              "      <td>-0.311169</td>\n",
              "      <td>1.468177</td>\n",
              "      <td>-0.470401</td>\n",
              "      <td>0.207971</td>\n",
              "      <td>0.025791</td>\n",
              "      <td>0.403993</td>\n",
              "      <td>0.251412</td>\n",
              "      <td>-0.018307</td>\n",
              "      <td>0.277838</td>\n",
              "      <td>-0.110474</td>\n",
              "      <td>0.066928</td>\n",
              "      <td>0.128539</td>\n",
              "      <td>-0.189115</td>\n",
              "      <td>0.133558</td>\n",
              "      <td>-0.021053</td>\n",
              "      <td>149.62</td>\n",
              "      <td>0</td>\n",
              "    </tr>\n",
              "    <tr>\n",
              "      <th>1</th>\n",
              "      <td>0.0000</td>\n",
              "      <td>1.191857</td>\n",
              "      <td>0.266151</td>\n",
              "      <td>0.166480</td>\n",
              "      <td>0.448154</td>\n",
              "      <td>0.060018</td>\n",
              "      <td>-0.082361</td>\n",
              "      <td>-0.078803</td>\n",
              "      <td>0.085102</td>\n",
              "      <td>-0.255425</td>\n",
              "      <td>-0.166974</td>\n",
              "      <td>1.612727</td>\n",
              "      <td>1.065235</td>\n",
              "      <td>0.489095</td>\n",
              "      <td>-0.143772</td>\n",
              "      <td>0.635558</td>\n",
              "      <td>0.463917</td>\n",
              "      <td>-0.114805</td>\n",
              "      <td>-0.183361</td>\n",
              "      <td>-0.145783</td>\n",
              "      <td>-0.069083</td>\n",
              "      <td>-0.225775</td>\n",
              "      <td>-0.638672</td>\n",
              "      <td>0.101288</td>\n",
              "      <td>-0.339846</td>\n",
              "      <td>0.167170</td>\n",
              "      <td>0.125895</td>\n",
              "      <td>-0.008983</td>\n",
              "      <td>0.014724</td>\n",
              "      <td>2.69</td>\n",
              "      <td>0</td>\n",
              "    </tr>\n",
              "    <tr>\n",
              "      <th>2</th>\n",
              "      <td>0.0003</td>\n",
              "      <td>-1.358354</td>\n",
              "      <td>-1.340163</td>\n",
              "      <td>1.773209</td>\n",
              "      <td>0.379780</td>\n",
              "      <td>-0.503198</td>\n",
              "      <td>1.800499</td>\n",
              "      <td>0.791461</td>\n",
              "      <td>0.247676</td>\n",
              "      <td>-1.514654</td>\n",
              "      <td>0.207643</td>\n",
              "      <td>0.624501</td>\n",
              "      <td>0.066084</td>\n",
              "      <td>0.717293</td>\n",
              "      <td>-0.165946</td>\n",
              "      <td>2.345865</td>\n",
              "      <td>-2.890083</td>\n",
              "      <td>1.109969</td>\n",
              "      <td>-0.121359</td>\n",
              "      <td>-2.261857</td>\n",
              "      <td>0.524980</td>\n",
              "      <td>0.247998</td>\n",
              "      <td>0.771679</td>\n",
              "      <td>0.909412</td>\n",
              "      <td>-0.689281</td>\n",
              "      <td>-0.327642</td>\n",
              "      <td>-0.139097</td>\n",
              "      <td>-0.055353</td>\n",
              "      <td>-0.059752</td>\n",
              "      <td>378.66</td>\n",
              "      <td>0</td>\n",
              "    </tr>\n",
              "    <tr>\n",
              "      <th>3</th>\n",
              "      <td>0.0003</td>\n",
              "      <td>-0.966272</td>\n",
              "      <td>-0.185226</td>\n",
              "      <td>1.792993</td>\n",
              "      <td>-0.863291</td>\n",
              "      <td>-0.010309</td>\n",
              "      <td>1.247203</td>\n",
              "      <td>0.237609</td>\n",
              "      <td>0.377436</td>\n",
              "      <td>-1.387024</td>\n",
              "      <td>-0.054952</td>\n",
              "      <td>-0.226487</td>\n",
              "      <td>0.178228</td>\n",
              "      <td>0.507757</td>\n",
              "      <td>-0.287924</td>\n",
              "      <td>-0.631418</td>\n",
              "      <td>-1.059647</td>\n",
              "      <td>-0.684093</td>\n",
              "      <td>1.965775</td>\n",
              "      <td>-1.232622</td>\n",
              "      <td>-0.208038</td>\n",
              "      <td>-0.108300</td>\n",
              "      <td>0.005274</td>\n",
              "      <td>-0.190321</td>\n",
              "      <td>-1.175575</td>\n",
              "      <td>0.647376</td>\n",
              "      <td>-0.221929</td>\n",
              "      <td>0.062723</td>\n",
              "      <td>0.061458</td>\n",
              "      <td>123.50</td>\n",
              "      <td>0</td>\n",
              "    </tr>\n",
              "    <tr>\n",
              "      <th>4</th>\n",
              "      <td>0.0006</td>\n",
              "      <td>-1.158233</td>\n",
              "      <td>0.877737</td>\n",
              "      <td>1.548718</td>\n",
              "      <td>0.403034</td>\n",
              "      <td>-0.407193</td>\n",
              "      <td>0.095921</td>\n",
              "      <td>0.592941</td>\n",
              "      <td>-0.270533</td>\n",
              "      <td>0.817739</td>\n",
              "      <td>0.753074</td>\n",
              "      <td>-0.822843</td>\n",
              "      <td>0.538196</td>\n",
              "      <td>1.345852</td>\n",
              "      <td>-1.119670</td>\n",
              "      <td>0.175121</td>\n",
              "      <td>-0.451449</td>\n",
              "      <td>-0.237033</td>\n",
              "      <td>-0.038195</td>\n",
              "      <td>0.803487</td>\n",
              "      <td>0.408542</td>\n",
              "      <td>-0.009431</td>\n",
              "      <td>0.798278</td>\n",
              "      <td>-0.137458</td>\n",
              "      <td>0.141267</td>\n",
              "      <td>-0.206010</td>\n",
              "      <td>0.502292</td>\n",
              "      <td>0.219422</td>\n",
              "      <td>0.215153</td>\n",
              "      <td>69.99</td>\n",
              "      <td>0</td>\n",
              "    </tr>\n",
              "  </tbody>\n",
              "</table>\n",
              "</div>"
            ],
            "text/plain": [
              "     Time        V1        V2        V3  ...       V27       V28  Amount  Class\n",
              "0  0.0000 -1.359807 -0.072781  2.536347  ...  0.133558 -0.021053  149.62      0\n",
              "1  0.0000  1.191857  0.266151  0.166480  ... -0.008983  0.014724    2.69      0\n",
              "2  0.0003 -1.358354 -1.340163  1.773209  ... -0.055353 -0.059752  378.66      0\n",
              "3  0.0003 -0.966272 -0.185226  1.792993  ...  0.062723  0.061458  123.50      0\n",
              "4  0.0006 -1.158233  0.877737  1.548718  ...  0.219422  0.215153   69.99      0\n",
              "\n",
              "[5 rows x 31 columns]"
            ]
          },
          "metadata": {
            "tags": []
          },
          "execution_count": 14
        }
      ]
    },
    {
      "cell_type": "code",
      "metadata": {
        "colab": {
          "base_uri": "https://localhost:8080/",
          "height": 202
        },
        "id": "-923fAAHd3WL",
        "outputId": "338f1d40-ee6a-4ff4-b7f2-bc76143f1eb3"
      },
      "source": [
        "#Imprimindo as 5 últimas linhas\n",
        "df_time_day.tail()"
      ],
      "execution_count": 15,
      "outputs": [
        {
          "output_type": "execute_result",
          "data": {
            "text/html": [
              "<div>\n",
              "<style scoped>\n",
              "    .dataframe tbody tr th:only-of-type {\n",
              "        vertical-align: middle;\n",
              "    }\n",
              "\n",
              "    .dataframe tbody tr th {\n",
              "        vertical-align: top;\n",
              "    }\n",
              "\n",
              "    .dataframe thead th {\n",
              "        text-align: right;\n",
              "    }\n",
              "</style>\n",
              "<table border=\"1\" class=\"dataframe\">\n",
              "  <thead>\n",
              "    <tr style=\"text-align: right;\">\n",
              "      <th></th>\n",
              "      <th>Time</th>\n",
              "      <th>V1</th>\n",
              "      <th>V2</th>\n",
              "      <th>V3</th>\n",
              "      <th>V4</th>\n",
              "      <th>V5</th>\n",
              "      <th>V6</th>\n",
              "      <th>V7</th>\n",
              "      <th>V8</th>\n",
              "      <th>V9</th>\n",
              "      <th>V10</th>\n",
              "      <th>V11</th>\n",
              "      <th>V12</th>\n",
              "      <th>V13</th>\n",
              "      <th>V14</th>\n",
              "      <th>V15</th>\n",
              "      <th>V16</th>\n",
              "      <th>V17</th>\n",
              "      <th>V18</th>\n",
              "      <th>V19</th>\n",
              "      <th>V20</th>\n",
              "      <th>V21</th>\n",
              "      <th>V22</th>\n",
              "      <th>V23</th>\n",
              "      <th>V24</th>\n",
              "      <th>V25</th>\n",
              "      <th>V26</th>\n",
              "      <th>V27</th>\n",
              "      <th>V28</th>\n",
              "      <th>Amount</th>\n",
              "      <th>Class</th>\n",
              "    </tr>\n",
              "  </thead>\n",
              "  <tbody>\n",
              "    <tr>\n",
              "      <th>284802</th>\n",
              "      <td>23.9961</td>\n",
              "      <td>-11.881118</td>\n",
              "      <td>10.071785</td>\n",
              "      <td>-9.834783</td>\n",
              "      <td>-2.066656</td>\n",
              "      <td>-5.364473</td>\n",
              "      <td>-2.606837</td>\n",
              "      <td>-4.918215</td>\n",
              "      <td>7.305334</td>\n",
              "      <td>1.914428</td>\n",
              "      <td>4.356170</td>\n",
              "      <td>-1.593105</td>\n",
              "      <td>2.711941</td>\n",
              "      <td>-0.689256</td>\n",
              "      <td>4.626942</td>\n",
              "      <td>-0.924459</td>\n",
              "      <td>1.107641</td>\n",
              "      <td>1.991691</td>\n",
              "      <td>0.510632</td>\n",
              "      <td>-0.682920</td>\n",
              "      <td>1.475829</td>\n",
              "      <td>0.213454</td>\n",
              "      <td>0.111864</td>\n",
              "      <td>1.014480</td>\n",
              "      <td>-0.509348</td>\n",
              "      <td>1.436807</td>\n",
              "      <td>0.250034</td>\n",
              "      <td>0.943651</td>\n",
              "      <td>0.823731</td>\n",
              "      <td>0.77</td>\n",
              "      <td>0</td>\n",
              "    </tr>\n",
              "    <tr>\n",
              "      <th>284803</th>\n",
              "      <td>23.9964</td>\n",
              "      <td>-0.732789</td>\n",
              "      <td>-0.055080</td>\n",
              "      <td>2.035030</td>\n",
              "      <td>-0.738589</td>\n",
              "      <td>0.868229</td>\n",
              "      <td>1.058415</td>\n",
              "      <td>0.024330</td>\n",
              "      <td>0.294869</td>\n",
              "      <td>0.584800</td>\n",
              "      <td>-0.975926</td>\n",
              "      <td>-0.150189</td>\n",
              "      <td>0.915802</td>\n",
              "      <td>1.214756</td>\n",
              "      <td>-0.675143</td>\n",
              "      <td>1.164931</td>\n",
              "      <td>-0.711757</td>\n",
              "      <td>-0.025693</td>\n",
              "      <td>-1.221179</td>\n",
              "      <td>-1.545556</td>\n",
              "      <td>0.059616</td>\n",
              "      <td>0.214205</td>\n",
              "      <td>0.924384</td>\n",
              "      <td>0.012463</td>\n",
              "      <td>-1.016226</td>\n",
              "      <td>-0.606624</td>\n",
              "      <td>-0.395255</td>\n",
              "      <td>0.068472</td>\n",
              "      <td>-0.053527</td>\n",
              "      <td>24.79</td>\n",
              "      <td>0</td>\n",
              "    </tr>\n",
              "    <tr>\n",
              "      <th>284804</th>\n",
              "      <td>23.9967</td>\n",
              "      <td>1.919565</td>\n",
              "      <td>-0.301254</td>\n",
              "      <td>-3.249640</td>\n",
              "      <td>-0.557828</td>\n",
              "      <td>2.630515</td>\n",
              "      <td>3.031260</td>\n",
              "      <td>-0.296827</td>\n",
              "      <td>0.708417</td>\n",
              "      <td>0.432454</td>\n",
              "      <td>-0.484782</td>\n",
              "      <td>0.411614</td>\n",
              "      <td>0.063119</td>\n",
              "      <td>-0.183699</td>\n",
              "      <td>-0.510602</td>\n",
              "      <td>1.329284</td>\n",
              "      <td>0.140716</td>\n",
              "      <td>0.313502</td>\n",
              "      <td>0.395652</td>\n",
              "      <td>-0.577252</td>\n",
              "      <td>0.001396</td>\n",
              "      <td>0.232045</td>\n",
              "      <td>0.578229</td>\n",
              "      <td>-0.037501</td>\n",
              "      <td>0.640134</td>\n",
              "      <td>0.265745</td>\n",
              "      <td>-0.087371</td>\n",
              "      <td>0.004455</td>\n",
              "      <td>-0.026561</td>\n",
              "      <td>67.88</td>\n",
              "      <td>0</td>\n",
              "    </tr>\n",
              "    <tr>\n",
              "      <th>284805</th>\n",
              "      <td>23.9967</td>\n",
              "      <td>-0.240440</td>\n",
              "      <td>0.530483</td>\n",
              "      <td>0.702510</td>\n",
              "      <td>0.689799</td>\n",
              "      <td>-0.377961</td>\n",
              "      <td>0.623708</td>\n",
              "      <td>-0.686180</td>\n",
              "      <td>0.679145</td>\n",
              "      <td>0.392087</td>\n",
              "      <td>-0.399126</td>\n",
              "      <td>-1.933849</td>\n",
              "      <td>-0.962886</td>\n",
              "      <td>-1.042082</td>\n",
              "      <td>0.449624</td>\n",
              "      <td>1.962563</td>\n",
              "      <td>-0.608577</td>\n",
              "      <td>0.509928</td>\n",
              "      <td>1.113981</td>\n",
              "      <td>2.897849</td>\n",
              "      <td>0.127434</td>\n",
              "      <td>0.265245</td>\n",
              "      <td>0.800049</td>\n",
              "      <td>-0.163298</td>\n",
              "      <td>0.123205</td>\n",
              "      <td>-0.569159</td>\n",
              "      <td>0.546668</td>\n",
              "      <td>0.108821</td>\n",
              "      <td>0.104533</td>\n",
              "      <td>10.00</td>\n",
              "      <td>0</td>\n",
              "    </tr>\n",
              "    <tr>\n",
              "      <th>284806</th>\n",
              "      <td>23.9978</td>\n",
              "      <td>-0.533413</td>\n",
              "      <td>-0.189733</td>\n",
              "      <td>0.703337</td>\n",
              "      <td>-0.506271</td>\n",
              "      <td>-0.012546</td>\n",
              "      <td>-0.649617</td>\n",
              "      <td>1.577006</td>\n",
              "      <td>-0.414650</td>\n",
              "      <td>0.486180</td>\n",
              "      <td>-0.915427</td>\n",
              "      <td>-1.040458</td>\n",
              "      <td>-0.031513</td>\n",
              "      <td>-0.188093</td>\n",
              "      <td>-0.084316</td>\n",
              "      <td>0.041333</td>\n",
              "      <td>-0.302620</td>\n",
              "      <td>-0.660377</td>\n",
              "      <td>0.167430</td>\n",
              "      <td>-0.256117</td>\n",
              "      <td>0.382948</td>\n",
              "      <td>0.261057</td>\n",
              "      <td>0.643078</td>\n",
              "      <td>0.376777</td>\n",
              "      <td>0.008797</td>\n",
              "      <td>-0.473649</td>\n",
              "      <td>-0.818267</td>\n",
              "      <td>-0.002415</td>\n",
              "      <td>0.013649</td>\n",
              "      <td>217.00</td>\n",
              "      <td>0</td>\n",
              "    </tr>\n",
              "  </tbody>\n",
              "</table>\n",
              "</div>"
            ],
            "text/plain": [
              "           Time         V1         V2  ...       V28  Amount  Class\n",
              "284802  23.9961 -11.881118  10.071785  ...  0.823731    0.77      0\n",
              "284803  23.9964  -0.732789  -0.055080  ... -0.053527   24.79      0\n",
              "284804  23.9967   1.919565  -0.301254  ... -0.026561   67.88      0\n",
              "284805  23.9967  -0.240440   0.530483  ...  0.104533   10.00      0\n",
              "284806  23.9978  -0.533413  -0.189733  ...  0.013649  217.00      0\n",
              "\n",
              "[5 rows x 31 columns]"
            ]
          },
          "metadata": {
            "tags": []
          },
          "execution_count": 15
        }
      ]
    },
    {
      "cell_type": "markdown",
      "metadata": {
        "id": "OBl7ojoronc7"
      },
      "source": [
        "Como podemos verificar, tais conversões ocorreram, conforme planejado.\n",
        "\n",
        "Agora o próximo passo é refazer os histogramas com estas modificações."
      ]
    },
    {
      "cell_type": "code",
      "metadata": {
        "colab": {
          "base_uri": "https://localhost:8080/",
          "height": 585
        },
        "id": "39AQnAn_eNqS",
        "outputId": "fc06df83-54ca-4aae-a75a-46f1aa5ef317"
      },
      "source": [
        "#setando os parâmetros no matplotlib\n",
        "with plt.rc_context(rc_params):\n",
        "\n",
        "  #Instanciando a Figure e Axes\n",
        "  fig, ax = plt.subplots(nrows = 2, ncols = 1, figsize = (16, 8))\n",
        "\n",
        "  #Construindo o histograma dos horários de transações autênticas\n",
        "  sns.histplot( x = 'Time', \n",
        "               data = df_time_day.loc[ df_time_day['Class'] == 0 ], \n",
        "               ax = ax[0],\n",
        "               kde = False)\n",
        "  \n",
        "  #Setando o título\n",
        "  ax[0].set_title(\"Distribuição das transações em horas diárias - sem fraude\")\n",
        "  \n",
        "  #Construindo o histograma dos horários de transações Fraude\n",
        "  sns.histplot( x = 'Time', \n",
        "               data = df_time_day.loc[ df_time_day['Class'] == 1 ], \n",
        "               ax = ax[1],\n",
        "               kde = False,\n",
        "               bins = 15)\n",
        "  \n",
        "  #Setando o título\n",
        "  ax[1].set_title(\"Distribuição das transações em horas diárias - com fraude\")\n",
        "\n",
        "  #Exibindo o gráfico\n",
        "  fig.tight_layout()"
      ],
      "execution_count": 16,
      "outputs": [
        {
          "output_type": "display_data",
          "data": {
            "image/png": "[encoded data removed]",
            "text/plain": [
              "<Figure size 1152x576 with 2 Axes>"
            ]
          },
          "metadata": {
            "tags": [],
            "needs_background": "light"
          }
        }
      ]
    },
    {
      "cell_type": "markdown",
      "metadata": {
        "id": "aqiDyDUIpcIk"
      },
      "source": [
        "Em relação ao histograma de transações autênticas, podemos concluir que a maioria das transações ocorrem entre o horário comercial e a noite quando as pessoas chegam em casa após um dia trabalho.\n",
        "\n",
        "Em relação ao histograma de transações fraudulentas, conseguimos concluir que existem dois picos de períodos que ocorrem estas fraudes, geralmente cerca das 02:30 e 12:30.\n",
        "\n",
        "O próximo passo é plotar um histograma da variável **Amount** para ambos tipos de transações."
      ]
    },
    {
      "cell_type": "code",
      "metadata": {
        "colab": {
          "base_uri": "https://localhost:8080/",
          "height": 585
        },
        "id": "74G-fKmCfzNf",
        "outputId": "08003b19-44ca-411e-dd25-e7ad84f321eb"
      },
      "source": [
        "#setando os parâmetros no matplotlib\n",
        "with plt.rc_context(rc_params):\n",
        "\n",
        "  #Instanciando a Figure e Axes\n",
        "  fig, ax = plt.subplots(nrows = 2, ncols = 1, figsize = (16, 8))\n",
        "\n",
        "  #Construindo o histograma dos horários de transações autênticas\n",
        "  sns.histplot( x = 'Amount', \n",
        "               data = df.loc[ df['Class'] == 0 ], \n",
        "               ax = ax[0],\n",
        "               kde = False,\n",
        "               bins = 30)\n",
        "  \n",
        "  #Setando o título\n",
        "  ax[0].set_title(\"Distribuição das transações em montante financeiro - sem fraude\")\n",
        "  \n",
        "  #Construindo o histograma dos horários de transações Fraude\n",
        "  sns.histplot( x = 'Amount', \n",
        "               data = df.loc[ df['Class'] == 1 ], \n",
        "               ax = ax[1],\n",
        "               kde = False,\n",
        "               bins = 30)\n",
        "  \n",
        "  #Setando o título\n",
        "  ax[1].set_title(\"Distribuição das transações em montante financeiro - com fraude\")\n",
        "\n",
        "  #Exibindo o gráfico\n",
        "  fig.tight_layout()"
      ],
      "execution_count": 17,
      "outputs": [
        {
          "output_type": "display_data",
          "data": {
            "image/png": "[encoded data removed]",
            "text/plain": [
              "<Figure size 1152x576 with 2 Axes>"
            ]
          },
          "metadata": {
            "tags": [],
            "needs_background": "light"
          }
        }
      ]
    },
    {
      "cell_type": "markdown",
      "metadata": {
        "id": "ZcJESkitrW2b"
      },
      "source": [
        "Em relação ao primeiro histograma, conseguimos avaliar uma forte tendência de presença de outliers, devido a maior parte dos dados se cocentrarem no inicio.\n",
        "\n",
        "Em relação ao segundo histograma, conseguimos concluir que a maior parte das transações fraudulentas são valores pequenos, pode ser uma estratégia para evitar bloqueios tanto por parte da instituição financeira quanto por parte do cliente.\n",
        "\n",
        "Vamos avaliar a presença de outliers, plotando o boxplot para ambos os casos.\n",
        "\n"
      ]
    },
    {
      "cell_type": "code",
      "metadata": {
        "colab": {
          "base_uri": "https://localhost:8080/",
          "height": 301
        },
        "id": "aNcxmXJftxzf",
        "outputId": "bb2e9e1d-93d7-41b8-d4bd-d291666f2766"
      },
      "source": [
        "#setando os parâmetros no matplotlib\n",
        "with plt.rc_context(rc_params):\n",
        "\n",
        "  #Instanciando a Figure e Axes\n",
        "  fig, ax = plt.subplots()\n",
        "\n",
        "  #Plotando o gráfico de boxplot\n",
        "  sns.boxplot(x = 'Class',\n",
        "              y = 'Amount',\n",
        "              data = df,\n",
        "              palette = 'vlag',\n",
        "              ax = ax)\n",
        "  \n",
        "  #Setando o título\n",
        "  ax.set_title(\"Box plot do montante financeiro para cada classe\")\n",
        "  \n",
        "  #Exibindo o gráfico\n",
        "  plt.show()"
      ],
      "execution_count": 26,
      "outputs": [
        {
          "output_type": "display_data",
          "data": {
            "image/png": "[encoded data removed]",
            "text/plain": [
              "<Figure size 432x288 with 1 Axes>"
            ]
          },
          "metadata": {
            "tags": [],
            "needs_background": "light"
          }
        }
      ]
    },
    {
      "cell_type": "markdown",
      "metadata": {
        "id": "xsD9j8BLs-Mp"
      },
      "source": [
        "Como podemos observar, existe a presença de outliers em ambos tipos de transações. Porém, como o modelo de predição terá objetivo de avaliar se determinada operação é fraudulenta, a retirada de outliers pode enfraquecer o modelo para casos em que os valores monetário são altos.\n",
        "\n",
        "O próximo passo é gerar uma matriz de correlação, através de uma heatmap, para avaliar a intensidade da relação entre as variáveis."
      ]
    },
    {
      "cell_type": "code",
      "metadata": {
        "colab": {
          "base_uri": "https://localhost:8080/",
          "height": 905
        },
        "id": "8eikST-fzlbC",
        "outputId": "21aa1398-c02f-4165-c4ef-4b5e5950a557"
      },
      "source": [
        "#Calculando a mariz de correlação\n",
        "corr = df.corr()\n",
        "\n",
        "#Instancinado a Figure e Axes\n",
        "fig,ax = plt.subplots(figsize = (16,16))\n",
        "\n",
        "#Plotando um heatmap da matriz de correlação\n",
        "sns.heatmap(corr, \n",
        "            cmap='RdBu', \n",
        "            fmt='.1f', \n",
        "            square=True, \n",
        "            linecolor='white', \n",
        "            annot=True, \n",
        "            ax = ax);"
      ],
      "execution_count": 27,
      "outputs": [
        {
          "output_type": "display_data",
          "data": {
            "image/png": "[encoded data removed]",
            "text/plain": [
              "<Figure size 1152x1152 with 2 Axes>"
            ]
          },
          "metadata": {
            "tags": [],
            "needs_background": "light"
          }
        }
      ]
    },
    {
      "cell_type": "markdown",
      "metadata": {
        "id": "NbkW7PeHuyP5"
      },
      "source": [
        "Como podemos observar, nenhuma variável possui uma relação forte. A maior relação é de -0.5 entre a variável **Amount** e **V2**.\n",
        "\n",
        "O próximo passo é preparar os dados para começarmos a aplicar os modelos de machine learning."
      ]
    },
    {
      "cell_type": "markdown",
      "metadata": {
        "id": "ULe7z0jZt0EH"
      },
      "source": [
        "## Preparação dos Dados\n"
      ]
    },
    {
      "cell_type": "markdown",
      "metadata": {
        "id": "-HQ5plz3Rxqy"
      },
      "source": [
        "Primeiramente, vamos padronizar os dados para mantê-los todos na mesma escala de valores. Alguns modelos como o de regressão logística não funciona bem para dados não padronizados."
      ]
    },
    {
      "cell_type": "code",
      "metadata": {
        "id": "ktf2t51_NopH"
      },
      "source": [
        "#Padronizando os dados\n",
        "#Instanciando o objeto StandarScaler()\n",
        "scaler = StandardScaler()\n",
        "\n",
        "#Padronizando a variável time\n",
        "df['Time'] = scaler.fit_transform(df['Time'].values.reshape(-1,1))\n",
        "\n",
        "#Padronizando a variávl Amount\n",
        "df['Amount'] = scaler.fit_transform(df['Amount'].values.reshape(-1,1))"
      ],
      "execution_count": 29,
      "outputs": []
    },
    {
      "cell_type": "markdown",
      "metadata": {
        "id": "UVwS3FWmSco0"
      },
      "source": [
        "Vamos dividir os dados em uma matriz de features e um vetor de variável alvo. A primeira corresponde as variáveis independentes, ou seja, as que podem explicar se a transação é do tipo fraudulenta ou lícita. Enquanto que a segunda equivale a nossa variável que queremos prever através dos modelos de machine learning."
      ]
    },
    {
      "cell_type": "code",
      "metadata": {
        "id": "IqfjG_SUSTi-"
      },
      "source": [
        "#Separar a Matriz de Features e Vetor Alvo\n",
        "X = df.drop('Class', axis = 1) #Matriz Features\n",
        "y = df['Class'] #Vetor Alvo"
      ],
      "execution_count": 32,
      "outputs": []
    },
    {
      "cell_type": "markdown",
      "metadata": {
        "id": "z1ulYNc0S_5R"
      },
      "source": [
        "Vamos dividir os dados em teste e treino. Esta etapa visa criarmos um *dataset* para treinarmos o modelo e outro para aferirmos a performance da predição."
      ]
    },
    {
      "cell_type": "code",
      "metadata": {
        "id": "-XFtASPH6guD"
      },
      "source": [
        "#Separando entre treino e teste\n",
        "X_train, X_test, y_train, y_test = train_test_split(X, y)"
      ],
      "execution_count": 33,
      "outputs": []
    },
    {
      "cell_type": "markdown",
      "metadata": {
        "id": "AuENm-EuTQMV"
      },
      "source": [
        "O próximo passo é balancear os dados para evitar que a predição fique enviesada e gere uma perda de performance em relação o objetivo mais importante que é prever as fraudes.\n",
        "\n",
        "Esta etapa pode ser feita por duas maneiras, conforme indicado por [Carlos Melo](https://sigmoidal.ai/como-lidar-com-dados-desbalanceados/):\n",
        "\n",
        ">* Over-sampling: cria novas observações da classe minoritária a partir das informações contidas nos dados originais. Essa geração de novas entradas pode ser feita aleatoriamente com o auxílio de técnicas de clustering ou sinteticamente.\n",
        "* Under-sampling: reduz o desbalanceamento do dataset focando na classe majoritária. Ou seja, elimina aleatoriamente entradas da classe com maior número de ocorrências.\n",
        "\n",
        "Utilizaremos como base a técnica de **under-sampling**, devido a possibilidade de mantermos integralmente os dados originais associados a fraude."
      ]
    },
    {
      "cell_type": "code",
      "metadata": {
        "id": "xVONgpb0R1xW"
      },
      "source": [
        "#Balanceando a amostra\n",
        "#Instanciando o objeto RandomUnderSampler()\n",
        "rus = RandomUnderSampler()\n",
        "\n",
        "#Rebalanceando a amostra\n",
        "X_reb, y_reb = rus.fit_sample(X_train, y_train)\n"
      ],
      "execution_count": 34,
      "outputs": []
    },
    {
      "cell_type": "markdown",
      "metadata": {
        "id": "560FeTSITkjQ"
      },
      "source": [
        "Vamos plotar o gráfico para verificar se os dados foram balanceados."
      ]
    },
    {
      "cell_type": "code",
      "metadata": {
        "colab": {
          "base_uri": "https://localhost:8080/",
          "height": 301
        },
        "id": "CTzwWzEVVAje",
        "outputId": "4abd9f35-26fc-4ee5-a13f-3a55f14d9c36"
      },
      "source": [
        "#setando os parâmetros no matplotlib\n",
        "with plt.rc_context(rc_params):\n",
        "\n",
        "  #Instanciando a Figure e Axes\n",
        "  fig, ax = plt.subplots()\n",
        "\n",
        "  #Criando o gráfico de countplot\n",
        "  sns.countplot(x = y_reb,\n",
        "                ax = ax)\n",
        "  \n",
        "  #Setando o título\n",
        "  ax.set_title(\"Quantidade de transações fraudulentas e autênticas\")\n",
        "\n",
        "  #Setando o título do eixo x\n",
        "  ax.set_xlabel(\"Class\")\n",
        "\n",
        "  #Exibindo o gráfico\n",
        "  plt.show()"
      ],
      "execution_count": 35,
      "outputs": [
        {
          "output_type": "display_data",
          "data": {
            "image/png": "[encoded data removed]",
            "text/plain": [
              "<Figure size 432x288 with 1 Axes>"
            ]
          },
          "metadata": {
            "tags": [],
            "needs_background": "light"
          }
        }
      ]
    },
    {
      "cell_type": "markdown",
      "metadata": {
        "id": "4l1P2KtUVb-x"
      },
      "source": [
        "Como podemos avaliar, os dados estão perfeitamente balanceados. Agora o próximo passo será aplicar os modelos de machine learning."
      ]
    },
    {
      "cell_type": "markdown",
      "metadata": {
        "id": "wJNH5qcjRxfX"
      },
      "source": [
        "## Modelo de Machine Learning\n",
        "\n",
        "O objetivo deste estudo de caso é prever se uma determinada transação pode ser considerada como fraudulenta ou lícita. Vale destacar que o mais importante é determinar o máximo de transações fraudulentas, mesmo que o modelo erre. \n",
        "\n",
        "Os modelos utilizados para resolver este problema são do tipo classificação, ou seja, lida com variáveis discretas ou rotuladas (Class: 0 ou 1).\n",
        "\n",
        "Serão utilizado dois modelos para predição:\n",
        "* Regressão Logística;\n",
        "* Árvore de decisão.\n",
        "\n",
        "Vamos iniciar aplicando o modelo de regressão logística."
      ]
    },
    {
      "cell_type": "code",
      "metadata": {
        "id": "lDySx8XUSMw_"
      },
      "source": [
        "#Regressão Logística\n",
        "#Escolhendo e importando o modelo\n",
        "from sklearn.linear_model import LogisticRegression \n",
        "\n",
        "#Instanciando o modelo\n",
        "model_LR = LogisticRegression()\n",
        "\n",
        "#Treinar o modelo\n",
        "model_LR.fit(X_reb, y_reb)\n",
        "\n",
        "#Prever com base no X_test\n",
        "y_pred_LR = model_LR.predict(X_test)"
      ],
      "execution_count": 36,
      "outputs": []
    },
    {
      "cell_type": "markdown",
      "metadata": {
        "id": "3PKfkh0NYey8"
      },
      "source": [
        "O próximo passo é aplicar o modelo de árvore decisão. Porém, antes de iniciarmos, é importante destacar que para este modelo devemos informar como hiperparâmetro uma quantidade de nó (desdobramento da árvore) para evitarmos a possibilidade de overfitting do modelo.\n",
        "\n",
        "Com o objetivo de definir uma quantidade de nó ótima, foi criado um loop para retornar o valor ideal a partir da métrica **Recall**. Esta métrica avalia a capacidade de prever corretamente fraudes dentro das transações fraudulentas ocorridas."
      ]
    },
    {
      "cell_type": "code",
      "metadata": {
        "colab": {
          "base_uri": "https://localhost:8080/"
        },
        "id": "kC8FlsgvRh-W",
        "outputId": "580b6570-57e1-4472-daa9-2d793854dff3"
      },
      "source": [
        "#Árvore de Decisão\n",
        "\n",
        "#Importando a métrica para verificar a quantidade ótima\n",
        "from sklearn.metrics import recall_score\n",
        "\n",
        "#Escolhendo e importando o modelo\n",
        "from sklearn.tree import DecisionTreeClassifier\n",
        "\n",
        "#Aplicando um for para buscar a qtd de nós ótimos\n",
        "for i in range(30): \n",
        "\n",
        "  #Instanciando o modelo\n",
        "  model_DTC = DecisionTreeClassifier(max_depth = (i+1) , criterion = 'entropy')\n",
        "\n",
        "  #Treinar o modelo\n",
        "  model_DTC.fit(X_reb, y_reb)\n",
        "\n",
        "  #Prever com base no X_test\n",
        "  y_pred_DTC = model_DTC.predict(X_test)\n",
        "\n",
        "  #recebendo o score da métrica recall para o modelo\n",
        "  recall = recall_score(y_test, y_pred_DTC)\n",
        "\n",
        "  #Fazendo as comparações para avaliar qual é a quantidade nós ótimo\n",
        "  if (i == 0):\n",
        "    recall_comp = recall\n",
        "    qtd_nos =  i + 1\n",
        "  \n",
        "  elif (recall_comp < recall ):\n",
        "    recall_comp = recall\n",
        "    qtd_nos =  i + 1\n",
        "\n",
        "print(\"A quantidade ótima de nó: \", qtd_nos)\n"
      ],
      "execution_count": 56,
      "outputs": [
        {
          "output_type": "stream",
          "text": [
            "A quantidade ótima de nó:  5\n"
          ],
          "name": "stdout"
        }
      ]
    },
    {
      "cell_type": "markdown",
      "metadata": {
        "id": "j3GQxTyNbCCy"
      },
      "source": [
        "O próximo passo é aplicarmos a quantidade ótima de nós no nosso modelo de árvore de decisão."
      ]
    },
    {
      "cell_type": "code",
      "metadata": {
        "id": "UXfZPBc1crDw"
      },
      "source": [
        "#Instanciando o modelo\n",
        "model_DTC = DecisionTreeClassifier(max_depth = qtd_nos , criterion = 'entropy')\n",
        "\n",
        "#Treinar o modelo\n",
        "model_DTC.fit(X_reb, y_reb)\n",
        "\n",
        "#Prever com base no X_test\n",
        "y_pred_DTC = model_DTC.predict(X_test)"
      ],
      "execution_count": 43,
      "outputs": []
    },
    {
      "cell_type": "markdown",
      "metadata": {
        "id": "KfBB25GMbe5v"
      },
      "source": [
        "Aplicado os dois modelos de decisão, o próximo passo é avaliarmos qual atenderia melhor o objetivo proposto para este estudo de caso. "
      ]
    },
    {
      "cell_type": "markdown",
      "metadata": {
        "id": "3e4ENOTYSUXi"
      },
      "source": [
        "## Avaliar o desempenho do modelo"
      ]
    },
    {
      "cell_type": "markdown",
      "metadata": {
        "id": "m799nf2jcAC7"
      },
      "source": [
        "Vamos avaliar qual modelo consegue atender o objetivo proposto, levando em consideração as seguintes métricas:\n",
        "* **Precision**: Capacidade prever um rótulo corretamente, por exemplo, o percentual de fraudes previstas corretamente.\n",
        "* **Recall**: Capacidade de prever um rótulo dentro do universo daquela variável, por exemplo, o percentual de previsão de fraude em relação as fraudes ocorridas;\n",
        "* **Acurracy**: A capacidade de prever todos rótulos corretamente.\n",
        "\n",
        "Diante disso, vamos imprimir o relatório de métricas para cada modelo."
      ]
    },
    {
      "cell_type": "code",
      "metadata": {
        "id": "H1jEi7gkSe2r",
        "colab": {
          "base_uri": "https://localhost:8080/"
        },
        "outputId": "6ba6c9cd-0d1c-4145-958f-f0b0eda0c51d"
      },
      "source": [
        "#Imprimindo os valores da métrica dos dois modelo p/ comparação\n",
        "print(\"---------------------Regressão Logística-------------\")\n",
        "print(classification_report(y_test, y_pred_LR))\n",
        "print(\"----------------Árvore de Decisão--------------------\")\n",
        "print(classification_report(y_test,y_pred_DTC))\n"
      ],
      "execution_count": 48,
      "outputs": [
        {
          "output_type": "stream",
          "text": [
            "---------------------Regressão Logística-------------\n",
            "              precision    recall  f1-score   support\n",
            "\n",
            "           0       1.00      0.97      0.99     71074\n",
            "           1       0.06      0.95      0.12       128\n",
            "\n",
            "    accuracy                           0.97     71202\n",
            "   macro avg       0.53      0.96      0.55     71202\n",
            "weighted avg       1.00      0.97      0.99     71202\n",
            "\n",
            "----------------Árvore de Decisão--------------------\n",
            "              precision    recall  f1-score   support\n",
            "\n",
            "           0       1.00      0.91      0.95     71074\n",
            "           1       0.02      0.94      0.04       128\n",
            "\n",
            "    accuracy                           0.91     71202\n",
            "   macro avg       0.51      0.92      0.50     71202\n",
            "weighted avg       1.00      0.91      0.95     71202\n",
            "\n"
          ],
          "name": "stdout"
        }
      ]
    },
    {
      "cell_type": "markdown",
      "metadata": {
        "id": "htiyucgRd4h-"
      },
      "source": [
        "Em relação as três métricas mencionadas, podemos concluir que o modelo de regressão logística apresenta uma performance melhor do que o de árvore de decisão. \n",
        "\n",
        "Dentre as métricas destacadas, a mais importante é a **Recall**, porque para este problema é necessário acertar o máximo de transações fraudulentas, independente da quantidade de casos lícitos previstos como fraudulentos.\n",
        "\n",
        "Vamos plotar a matriz confusão para ambos os modelos com o objetivo de avaliarmos a quantidade de previsões versus ocorrências para cada classe de transação."
      ]
    },
    {
      "cell_type": "code",
      "metadata": {
        "colab": {
          "base_uri": "https://localhost:8080/",
          "height": 334
        },
        "id": "qlgOi8sDN3VS",
        "outputId": "f70887a8-44e9-441c-b710-ce11d9c99753"
      },
      "source": [
        "#Instanciando a figure e axes\n",
        "fig, ax = plt.subplots(nrows = 1, ncols = 2, figsize = (8,8))\n",
        "\n",
        "#Plotando a matriz de confusão em um heatmap\n",
        "sns.heatmap(confusion_matrix(y_test, y_pred_LR), \n",
        "            square=True, \n",
        "            annot=True, \n",
        "            cbar=False,\n",
        "            ax = ax[0])\n",
        "\n",
        "#Definindo o nome do eixo x\n",
        "ax[0].set_xlabel(\"Previsão do Modelo\")\n",
        "\n",
        "#Definindo o nome do eixo y\n",
        "ax[0].set_ylabel(\"Valor Verdadeiro\")\n",
        "\n",
        "#Definindo o título\n",
        "ax[0].set_title(\"Matriz Confusão \\n Regressão Logística\")\n",
        "\n",
        "#Plotando a matriz de confusão em um heatmap\n",
        "sns.heatmap(confusion_matrix(y_test, y_pred_DTC), \n",
        "            square=True, \n",
        "            annot=True, \n",
        "            cbar=False,\n",
        "            ax = ax[1])\n",
        "\n",
        "#Definindo o nome do eixo x\n",
        "ax[1].set_xlabel(\"Previsão do Modelo\")\n",
        "\n",
        "#Definindo o nome do eixo y\n",
        "ax[1].set_ylabel(\"Valor Verdadeiro\")\n",
        "\n",
        "#Definindo o título\n",
        "ax[1].set_title(\"Matriz Confusão \\n Árvore de Decisão\")\n",
        "\n",
        "fig.tight_layout()\n"
      ],
      "execution_count": 54,
      "outputs": [
        {
          "output_type": "display_data",
          "data": {
            "image/png": "[encoded data removed]",
            "text/plain": [
              "<Figure size 576x576 with 2 Axes>"
            ]
          },
          "metadata": {
            "tags": [],
            "needs_background": "light"
          }
        }
      ]
    },
    {
      "cell_type": "markdown",
      "metadata": {
        "id": "0Bj7zRZMSfO7"
      },
      "source": [
        "## Conclusão\n",
        "\n",
        "Os dados compilados de algumas empresas europérias de cartão crédito foram utilizados com o intuito de prever se uma determinada transação é fraudulenta ou lícita.\n",
        "\n",
        "Os modelos de machine learning aplicados neste estudo de caso foram de Regressão Logística e Árvore de decisão. No qual, o primeiro apresentou uma performance melhor, conforme as métricas definidas para para avaliar se a capacidade do modelo de atender o objetivo proposto para o problema. \n",
        "\n",
        "É importante destacar que o mais importante é prever o máximo de fraudes, independente da quantidade de previsões erradas em relação a transações lícitas."
      ]
    }
  ]
}